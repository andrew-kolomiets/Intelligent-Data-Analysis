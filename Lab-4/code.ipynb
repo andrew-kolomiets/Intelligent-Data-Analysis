{
 "cells": [
  {
   "attachments": {},
   "cell_type": "markdown",
   "metadata": {},
   "source": [
    "# Lab-4"
   ]
  },
  {
   "cell_type": "code",
   "execution_count": null,
   "metadata": {},
   "outputs": [],
   "source": [
    "# 1. Генерація зображень\n",
    "# Вирішіть завдання генерації зображень (архітектура за вашим вибором: GAN/DCGAN/VAE), якщо в обраному датасеті багато класів, залиште декілька.\n",
    "# Датасети: можна брати CIFAR-100, Fashion MNIST або тут: https://www.kaggle.com/tags/image-data  \n",
    "\n",
    "# 2.  Вирішити завдання машинного перекладу (будь яка пара мов, датасети тут: https://www.manythings.org/anki/)\n",
    "# Приклад: https://keras.io/examples/nlp/neural_machine_translation_with_transformer/ (English-to-Spanish не обирати!)\n",
    "\n",
    "# 3. Проведіть експерименти з моделями бібліотеки HF Transformers (https://huggingface.co/) за допомогою (наприклад) Pipeline або TFAutoModelForSequenceClassification\n",
    "# Приклад: https://github.com/natsakh/Data-Analysis/blob/main/Pr_8/1%20hugging%20face%20transformers.ipynb\n",
    "\n",
    "# 4. Бонус (не обов'язкова задача). Застосуйте pretrained BERT model для задачі класифікації текстів з лабораторної 2. \n",
    "# Приклад: https://github.com/natsakh/Data-Analysis/blob/main/Pr_8/2%20hugging%20face%20transformers.ipynb\n",
    "\n",
    "# Як звіт – робочий код в Jupyter notebook заливаєте на свій репозиторій. Лінк відправляєте як відповідь до цього завдання.\n",
    "# Максимальний бал – 10, 6 за роботу + 4 захист.\n",
    "# Захистити роботу можна буде в грудні на практиці (якщо встигнете виконати) або на консультації перед екзаменом.\n",
    "# (!) Захищати на консультації перед екзаменом можна буде тільки лаб 4, лаб 1, 2, 3 - тільки в семестрі, на практичних\n",
    "# (!) Однакові або дуже схожі роботи прийматися не будуть."
   ]
  },
  {
   "attachments": {},
   "cell_type": "markdown",
   "metadata": {},
   "source": [
    "# Image generation"
   ]
  },
  {
   "cell_type": "code",
   "execution_count": null,
   "metadata": {},
   "outputs": [],
   "source": []
  },
  {
   "attachments": {},
   "cell_type": "markdown",
   "metadata": {},
   "source": [
    "# Machine translation"
   ]
  },
  {
   "cell_type": "code",
   "execution_count": null,
   "metadata": {},
   "outputs": [],
   "source": []
  },
  {
   "attachments": {},
   "cell_type": "markdown",
   "metadata": {},
   "source": [
    "# HF Transformers "
   ]
  },
  {
   "attachments": {},
   "cell_type": "markdown",
   "metadata": {},
   "source": [
    "# Sources"
   ]
  }
 ],
 "metadata": {
  "kernelspec": {
   "display_name": "Python 3",
   "language": "python",
   "name": "python3"
  },
  "language_info": {
   "name": "python",
   "version": "3.8.10 (default, Nov 14 2022, 12:59:47) \n[GCC 9.4.0]"
  },
  "orig_nbformat": 4,
  "vscode": {
   "interpreter": {
    "hash": "e7370f93d1d0cde622a1f8e1c04877d8463912d04d973331ad4851f04de6915a"
   }
  }
 },
 "nbformat": 4,
 "nbformat_minor": 2
}
